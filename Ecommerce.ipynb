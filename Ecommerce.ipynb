{
 "cells": [
  {
   "cell_type": "markdown",
   "metadata": {},
   "source": [
    "# E- Commerce Sales analysis Database creation \n",
    "\n",
    "## Project Overview \n",
    "\n",
    "creating and managing an e-commerce sales analysis database. The project involves designing tables to store customer, product, and order information, performing various SQL operations to analyze the data, and generating reports to help understand the business's sales trends.\n",
    "\n",
    "### Objectives and Skills Demonstrated\n",
    "* Create tables with appropriate data types, constraints, and relationships.\n",
    "* Perform CRUD operations (Create, Read, Update, Delete).\n",
    "* Use SQL joins to combine data from multiple tables.\n",
    "* Use aggregate functions (SUM, COUNT, AVG) to analyze data.\n",
    "* Apply filtering, sorting, and grouping to generate meaningful insights.\n",
    "* Implement foreign keys and understand data relationships."
   ]
  },
  {
   "cell_type": "markdown",
   "metadata": {},
   "source": [
    "###  Creating Ecommerce Database tables "
   ]
  },
  {
   "cell_type": "code",
   "execution_count": 1,
   "metadata": {},
   "outputs": [],
   "source": [
    "# Import pandas ands sqlite3\n",
    "import sqlite3\n",
    "import pandas as pd\n",
    "conn = sqlite3.connect('Ecommerce.sqlite')"
   ]
  },
  {
   "cell_type": "code",
   "execution_count": 2,
   "metadata": {},
   "outputs": [],
   "source": [
    "# Connecting to a cursor \n",
    "cur = conn.cursor()"
   ]
  },
  {
   "cell_type": "code",
   "execution_count": 5,
   "metadata": {},
   "outputs": [
    {
     "data": {
      "text/plain": [
       "<sqlite3.Cursor at 0x1d76c892730>"
      ]
     },
     "execution_count": 5,
     "metadata": {},
     "output_type": "execute_result"
    }
   ],
   "source": [
    "# Creating Table  Customers\n",
    "cur.execute (\"\"\"\n",
    "CREATE TABLE IF NOT EXISTS Customers(\n",
    "CustomerID Primary Key,\n",
    "FirstName TEXT,\n",
    "LastName TEXT,\n",
    "Email TEXT UNIQUE,\n",
    "PhoneNumber TEXT,\n",
    "RegistrationDate DATE\n",
    ")\n",
    "\"\"\")"
   ]
  },
  {
   "cell_type": "code",
   "execution_count": 7,
   "metadata": {},
   "outputs": [
    {
     "data": {
      "text/html": [
       "<div>\n",
       "<style scoped>\n",
       "    .dataframe tbody tr th:only-of-type {\n",
       "        vertical-align: middle;\n",
       "    }\n",
       "\n",
       "    .dataframe tbody tr th {\n",
       "        vertical-align: top;\n",
       "    }\n",
       "\n",
       "    .dataframe thead th {\n",
       "        text-align: right;\n",
       "    }\n",
       "</style>\n",
       "<table border=\"1\" class=\"dataframe\">\n",
       "  <thead>\n",
       "    <tr style=\"text-align: right;\">\n",
       "      <th></th>\n",
       "      <th>CustomerID</th>\n",
       "      <th>FirstName</th>\n",
       "      <th>LastName</th>\n",
       "      <th>Email</th>\n",
       "      <th>PhoneNumber</th>\n",
       "      <th>RegistrationDate</th>\n",
       "    </tr>\n",
       "  </thead>\n",
       "  <tbody>\n",
       "  </tbody>\n",
       "</table>\n",
       "</div>"
      ],
      "text/plain": [
       "Empty DataFrame\n",
       "Columns: [CustomerID, FirstName, LastName, Email, PhoneNumber, RegistrationDate]\n",
       "Index: []"
      ]
     },
     "execution_count": 7,
     "metadata": {},
     "output_type": "execute_result"
    }
   ],
   "source": [
    "#  view created Customers table\n",
    "q = \"\"\"\n",
    "SELECT *\n",
    "FROM Customers;\n",
    "\"\"\"\n",
    "pd.read_sql(q, conn)"
   ]
  }
 ],
 "metadata": {
  "kernelspec": {
   "display_name": "python (Learn-env)",
   "language": "python",
   "name": "learn-env"
  },
  "language_info": {
   "codemirror_mode": {
    "name": "ipython",
    "version": 3
   },
   "file_extension": ".py",
   "mimetype": "text/x-python",
   "name": "python",
   "nbconvert_exporter": "python",
   "pygments_lexer": "ipython3",
   "version": "3.8.5"
  }
 },
 "nbformat": 4,
 "nbformat_minor": 2
}
